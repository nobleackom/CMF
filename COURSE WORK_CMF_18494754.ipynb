{
 "cells": [
  {
   "cell_type": "code",
   "execution_count": 5,
   "id": "05eb3c7a",
   "metadata": {},
   "outputs": [],
   "source": [
    "import yfinance as yf\n",
    "import numpy as np\n",
    "import pandas as pd\n",
    "import matplotlib as mpl\n",
    "import matplotlib.pyplot as plt"
   ]
  },
  {
   "cell_type": "code",
   "execution_count": 7,
   "id": "6f43cd22",
   "metadata": {},
   "outputs": [
    {
     "name": "stdout",
     "output_type": "stream",
     "text": [
      "[*********************100%***********************]  1 of 1 completed\n"
     ]
    }
   ],
   "source": [
    "data = yf.download(\"ETH-USD\", start=\"2021-03-11\", end=\"2022-03-11\")"
   ]
  },
  {
   "cell_type": "code",
   "execution_count": 8,
   "id": "b12b3c8b",
   "metadata": {},
   "outputs": [
    {
     "data": {
      "text/html": [
       "<div>\n",
       "<style scoped>\n",
       "    .dataframe tbody tr th:only-of-type {\n",
       "        vertical-align: middle;\n",
       "    }\n",
       "\n",
       "    .dataframe tbody tr th {\n",
       "        vertical-align: top;\n",
       "    }\n",
       "\n",
       "    .dataframe thead th {\n",
       "        text-align: right;\n",
       "    }\n",
       "</style>\n",
       "<table border=\"1\" class=\"dataframe\">\n",
       "  <thead>\n",
       "    <tr style=\"text-align: right;\">\n",
       "      <th></th>\n",
       "      <th>Open</th>\n",
       "      <th>High</th>\n",
       "      <th>Low</th>\n",
       "      <th>Close</th>\n",
       "      <th>Adj Close</th>\n",
       "      <th>Volume</th>\n",
       "    </tr>\n",
       "    <tr>\n",
       "      <th>Date</th>\n",
       "      <th></th>\n",
       "      <th></th>\n",
       "      <th></th>\n",
       "      <th></th>\n",
       "      <th></th>\n",
       "      <th></th>\n",
       "    </tr>\n",
       "  </thead>\n",
       "  <tbody>\n",
       "    <tr>\n",
       "      <th>2021-03-11</th>\n",
       "      <td>1798.033936</td>\n",
       "      <td>1843.818848</td>\n",
       "      <td>1734.617065</td>\n",
       "      <td>1826.194946</td>\n",
       "      <td>1826.194946</td>\n",
       "      <td>24013132909</td>\n",
       "    </tr>\n",
       "    <tr>\n",
       "      <th>2021-03-12</th>\n",
       "      <td>1826.546753</td>\n",
       "      <td>1839.497314</td>\n",
       "      <td>1728.980957</td>\n",
       "      <td>1772.102417</td>\n",
       "      <td>1772.102417</td>\n",
       "      <td>22435821312</td>\n",
       "    </tr>\n",
       "    <tr>\n",
       "      <th>2021-03-13</th>\n",
       "      <td>1772.166382</td>\n",
       "      <td>1937.645508</td>\n",
       "      <td>1733.639893</td>\n",
       "      <td>1924.685425</td>\n",
       "      <td>1924.685425</td>\n",
       "      <td>25014689475</td>\n",
       "    </tr>\n",
       "    <tr>\n",
       "      <th>2021-03-14</th>\n",
       "      <td>1923.863770</td>\n",
       "      <td>1930.779785</td>\n",
       "      <td>1845.119995</td>\n",
       "      <td>1854.564331</td>\n",
       "      <td>1854.564331</td>\n",
       "      <td>19344589211</td>\n",
       "    </tr>\n",
       "    <tr>\n",
       "      <th>2021-03-15</th>\n",
       "      <td>1854.086670</td>\n",
       "      <td>1889.196655</td>\n",
       "      <td>1749.606323</td>\n",
       "      <td>1791.702271</td>\n",
       "      <td>1791.702271</td>\n",
       "      <td>26244738810</td>\n",
       "    </tr>\n",
       "  </tbody>\n",
       "</table>\n",
       "</div>"
      ],
      "text/plain": [
       "                   Open         High          Low        Close    Adj Close  \\\n",
       "Date                                                                          \n",
       "2021-03-11  1798.033936  1843.818848  1734.617065  1826.194946  1826.194946   \n",
       "2021-03-12  1826.546753  1839.497314  1728.980957  1772.102417  1772.102417   \n",
       "2021-03-13  1772.166382  1937.645508  1733.639893  1924.685425  1924.685425   \n",
       "2021-03-14  1923.863770  1930.779785  1845.119995  1854.564331  1854.564331   \n",
       "2021-03-15  1854.086670  1889.196655  1749.606323  1791.702271  1791.702271   \n",
       "\n",
       "                 Volume  \n",
       "Date                     \n",
       "2021-03-11  24013132909  \n",
       "2021-03-12  22435821312  \n",
       "2021-03-13  25014689475  \n",
       "2021-03-14  19344589211  \n",
       "2021-03-15  26244738810  "
      ]
     },
     "execution_count": 8,
     "metadata": {},
     "output_type": "execute_result"
    }
   ],
   "source": [
    "data.head()"
   ]
  },
  {
   "cell_type": "code",
   "execution_count": 9,
   "id": "f7b91a3f",
   "metadata": {},
   "outputs": [
    {
     "data": {
      "text/html": [
       "<div>\n",
       "<style scoped>\n",
       "    .dataframe tbody tr th:only-of-type {\n",
       "        vertical-align: middle;\n",
       "    }\n",
       "\n",
       "    .dataframe tbody tr th {\n",
       "        vertical-align: top;\n",
       "    }\n",
       "\n",
       "    .dataframe thead th {\n",
       "        text-align: right;\n",
       "    }\n",
       "</style>\n",
       "<table border=\"1\" class=\"dataframe\">\n",
       "  <thead>\n",
       "    <tr style=\"text-align: right;\">\n",
       "      <th></th>\n",
       "      <th>Open</th>\n",
       "      <th>High</th>\n",
       "      <th>Low</th>\n",
       "      <th>Close</th>\n",
       "      <th>Adj Close</th>\n",
       "      <th>Volume</th>\n",
       "    </tr>\n",
       "    <tr>\n",
       "      <th>Date</th>\n",
       "      <th></th>\n",
       "      <th></th>\n",
       "      <th></th>\n",
       "      <th></th>\n",
       "      <th></th>\n",
       "      <th></th>\n",
       "    </tr>\n",
       "  </thead>\n",
       "  <tbody>\n",
       "    <tr>\n",
       "      <th>2022-03-07</th>\n",
       "      <td>2555.297607</td>\n",
       "      <td>2639.943115</td>\n",
       "      <td>2455.593750</td>\n",
       "      <td>2497.771240</td>\n",
       "      <td>2497.771240</td>\n",
       "      <td>14594098731</td>\n",
       "    </tr>\n",
       "    <tr>\n",
       "      <th>2022-03-08</th>\n",
       "      <td>2497.721436</td>\n",
       "      <td>2618.166016</td>\n",
       "      <td>2489.755127</td>\n",
       "      <td>2576.747559</td>\n",
       "      <td>2576.747559</td>\n",
       "      <td>13922922903</td>\n",
       "    </tr>\n",
       "    <tr>\n",
       "      <th>2022-03-09</th>\n",
       "      <td>2577.165283</td>\n",
       "      <td>2761.796387</td>\n",
       "      <td>2573.655273</td>\n",
       "      <td>2729.783447</td>\n",
       "      <td>2729.783447</td>\n",
       "      <td>14173665398</td>\n",
       "    </tr>\n",
       "    <tr>\n",
       "      <th>2022-03-10</th>\n",
       "      <td>2729.116455</td>\n",
       "      <td>2729.116455</td>\n",
       "      <td>2566.193115</td>\n",
       "      <td>2608.048584</td>\n",
       "      <td>2608.048584</td>\n",
       "      <td>13292477213</td>\n",
       "    </tr>\n",
       "    <tr>\n",
       "      <th>2022-03-11</th>\n",
       "      <td>2608.271240</td>\n",
       "      <td>2664.558594</td>\n",
       "      <td>2534.688232</td>\n",
       "      <td>2559.562988</td>\n",
       "      <td>2559.562988</td>\n",
       "      <td>12382419582</td>\n",
       "    </tr>\n",
       "  </tbody>\n",
       "</table>\n",
       "</div>"
      ],
      "text/plain": [
       "                   Open         High          Low        Close    Adj Close  \\\n",
       "Date                                                                          \n",
       "2022-03-07  2555.297607  2639.943115  2455.593750  2497.771240  2497.771240   \n",
       "2022-03-08  2497.721436  2618.166016  2489.755127  2576.747559  2576.747559   \n",
       "2022-03-09  2577.165283  2761.796387  2573.655273  2729.783447  2729.783447   \n",
       "2022-03-10  2729.116455  2729.116455  2566.193115  2608.048584  2608.048584   \n",
       "2022-03-11  2608.271240  2664.558594  2534.688232  2559.562988  2559.562988   \n",
       "\n",
       "                 Volume  \n",
       "Date                     \n",
       "2022-03-07  14594098731  \n",
       "2022-03-08  13922922903  \n",
       "2022-03-09  14173665398  \n",
       "2022-03-10  13292477213  \n",
       "2022-03-11  12382419582  "
      ]
     },
     "execution_count": 9,
     "metadata": {},
     "output_type": "execute_result"
    }
   ],
   "source": [
    "data.tail()"
   ]
  },
  {
   "cell_type": "code",
   "execution_count": 10,
   "id": "4266a329",
   "metadata": {},
   "outputs": [
    {
     "data": {
      "text/plain": [
       "Date\n",
       "2021-03-11    1826.194946\n",
       "2021-03-12    1772.102417\n",
       "2021-03-13    1924.685425\n",
       "2021-03-14    1854.564331\n",
       "2021-03-15    1791.702271\n",
       "Name: Adj Close, dtype: float64"
      ]
     },
     "execution_count": 10,
     "metadata": {},
     "output_type": "execute_result"
    }
   ],
   "source": [
    "data['Adj Close'].head()"
   ]
  },
  {
   "cell_type": "code",
   "execution_count": 8,
   "id": "1a98cd6c",
   "metadata": {},
   "outputs": [
    {
     "data": {
      "text/plain": [
       "array([<AxesSubplot:xlabel='Date'>], dtype=object)"
      ]
     },
     "execution_count": 8,
     "metadata": {},
     "output_type": "execute_result"
    },
    {
     "data": {
      "image/png": "[encoded data removed]",
      "text/plain": [
       "<Figure size 720x864 with 1 Axes>"
      ]
     },
     "metadata": {
      "needs_background": "light"
     },
     "output_type": "display_data"
    }
   ],
   "source": [
    "data['Adj Close'].plot(figsize=(10, 12), subplots=True)"
   ]
  },
  {
   "cell_type": "code",
   "execution_count": 11,
   "id": "60131bc1",
   "metadata": {},
   "outputs": [
    {
     "data": {
      "text/plain": [
       "[-0.02962034771084777,\n",
       " 0.0861028157003934,\n",
       " -0.036432495849089586,\n",
       " -0.033895864109025245,\n",
       " 0.008522359714190818]"
      ]
     },
     "execution_count": 11,
     "metadata": {},
     "output_type": "execute_result"
    }
   ],
   "source": [
    "normal_return = []\n",
    "for i in range(0,len(data)-1):\n",
    "    adjclose_yesterday = data.iloc[i]['Adj Close']\n",
    "    adjclose_today = data.iloc[i+1]['Adj Close']\n",
    "    x = (adjclose_today - adjclose_yesterday) / adjclose_yesterday\n",
    "    normal_return.append(x)\n",
    "normal_return[:5]"
   ]
  },
  {
   "cell_type": "code",
   "execution_count": 12,
   "id": "860586b7",
   "metadata": {},
   "outputs": [
    {
     "data": {
      "text/plain": [
       "[-0.030067889946876186,\n",
       " 0.08259589078773466,\n",
       " -0.0371127321901929,\n",
       " -0.03448364945036978,\n",
       " 0.008486249424844293]"
      ]
     },
     "execution_count": 12,
     "metadata": {},
     "output_type": "execute_result"
    }
   ],
   "source": [
    "log_return = []\n",
    "for i in range(0,len(data)-1):\n",
    "    adjclose_yesterday = data.iloc[i]['Adj Close']\n",
    "    adjclose_today = data.iloc[i+1]['Adj Close']\n",
    "    y = np.log(adjclose_today / adjclose_yesterday)\n",
    "    log_return.append(y)\n",
    "log_return[:5]"
   ]
  },
  {
   "cell_type": "code",
   "execution_count": 13,
   "id": "a2c7738e",
   "metadata": {},
   "outputs": [
    {
     "name": "stdout",
     "output_type": "stream",
     "text": [
      "The annulized log return is 0.33760200 and its annulized volatility is 0.99055846\n"
     ]
    }
   ],
   "source": [
    "dflr = pd.DataFrame(log_return, columns = ['log']) \n",
    "lr = dflr.mean() * len(dflr)\n",
    "lv = dflr.std() * (len(dflr) ** 0.5)\n",
    "print('The annulized log return is %.8f and its annulized volatility is %.8f' % (lr,lv))"
   ]
  },
  {
   "cell_type": "code",
   "execution_count": 14,
   "id": "6c721e9c",
   "metadata": {},
   "outputs": [],
   "source": [
    "import os"
   ]
  },
  {
   "cell_type": "code",
   "execution_count": 15,
   "id": "d43ed0ee",
   "metadata": {},
   "outputs": [],
   "source": [
    "S0 = 2565.48              # spot stock price\n",
    "K = 3052.50               # strike  \\ State the date u pick the excise price\n",
    "T = 1.0                 # maturity \n",
    "r = 0.0114                 # US Treasure 1-yaear rate  \n",
    "sig = 0.99               # diffusion coefficient or volatility\n",
    "N = 3                   # number of periods or number of time steps  \n",
    "payoff = \"put\"   "
   ]
  },
  {
   "cell_type": "code",
   "execution_count": 16,
   "id": "37326eea",
   "metadata": {},
   "outputs": [],
   "source": [
    "dT = float(T) / N                             # Delta t\n",
    "u = np.exp(sig * np.sqrt(dT))                 # up factor\n",
    "d = 1.0 / u  "
   ]
  },
  {
   "cell_type": "code",
   "execution_count": 17,
   "id": "48a8ace7",
   "metadata": {},
   "outputs": [],
   "source": [
    "S = np.zeros((N + 1, N + 1))\n",
    "S[0, 0] = S0\n",
    "z = 1\n",
    "for t in range(1, N + 1):\n",
    "    for i in range(z):\n",
    "        S[i, t] = S[i, t-1] * u\n",
    "        S[i+1, t] = S[i, t-1] * d\n",
    "    z += 1"
   ]
  },
  {
   "cell_type": "code",
   "execution_count": 18,
   "id": "9f92591a",
   "metadata": {},
   "outputs": [
    {
     "data": {
      "text/plain": [
       "array([[ 2565.48      ,  4543.61232563,  8046.99820914, 14251.69568553],\n",
       "       [    0.        ,  1448.55836253,  2565.48      ,  4543.61232563],\n",
       "       [    0.        ,     0.        ,   817.9059395 ,  1448.55836253],\n",
       "       [    0.        ,     0.        ,     0.        ,   461.81786193]])"
      ]
     },
     "execution_count": 18,
     "metadata": {},
     "output_type": "execute_result"
    }
   ],
   "source": [
    "S"
   ]
  },
  {
   "cell_type": "code",
   "execution_count": 21,
   "id": "48c2a050",
   "metadata": {},
   "outputs": [
    {
     "data": {
      "text/plain": [
       "0.3640288735354639"
      ]
     },
     "execution_count": 21,
     "metadata": {},
     "output_type": "execute_result"
    }
   ],
   "source": [
    "a = np.exp(r * dT)    # risk free compound return\n",
    "p = (a - d)/ (u - d)  # risk neutral up probability\n",
    "q = 1.0 - p           # risk neutral down probability\n",
    "p"
   ]
  },
  {
   "cell_type": "code",
   "execution_count": 22,
   "id": "0ad1b2d8",
   "metadata": {},
   "outputs": [
    {
     "data": {
      "text/plain": [
       "array([[   0.        ,    0.        ,    0.        ,    0.        ],\n",
       "       [   0.        ,    0.        ,    0.        ,    0.        ],\n",
       "       [   0.        ,    0.        ,    0.        , 1603.94163747],\n",
       "       [   0.        ,    0.        ,    0.        , 2590.68213807]])"
      ]
     },
     "execution_count": 22,
     "metadata": {},
     "output_type": "execute_result"
    }
   ],
   "source": [
    "S_T = S[:,-1]\n",
    "V = np.zeros((N + 1, N + 1))\n",
    "if payoff ==\"call\":\n",
    "    V[:,-1] = np.maximum(S_T-K, 0.0)\n",
    "elif payoff ==\"put\":\n",
    "    V[:,-1] = np.maximum(K-S_T, 0.0)\n",
    "V"
   ]
  },
  {
   "cell_type": "code",
   "execution_count": 23,
   "id": "228c743a",
   "metadata": {},
   "outputs": [
    {
     "data": {
      "text/plain": [
       "array([[1359.2706996 ,  643.81741673,    0.        ,    0.        ],\n",
       "       [   0.        , 1776.93228298, 1016.19169531,    0.        ],\n",
       "       [   0.        ,    0.        , 2223.01657166, 1603.94163747],\n",
       "       [   0.        ,    0.        ,    0.        , 2590.68213807]])"
      ]
     },
     "execution_count": 23,
     "metadata": {},
     "output_type": "execute_result"
    }
   ],
   "source": [
    "# for European Option\n",
    "for j in range(N-1, -1, -1):\n",
    "    for i in range(j+1):\n",
    "        V[i,j] = np.exp(-r*dT) * (p * V[i,j + 1] + q * V[i + 1,j + 1])\n",
    "V"
   ]
  },
  {
   "cell_type": "code",
   "execution_count": 24,
   "id": "fa12cbc7",
   "metadata": {},
   "outputs": [
    {
     "name": "stdout",
     "output_type": "stream",
     "text": [
      "European put 1359.2706995963654\n"
     ]
    }
   ],
   "source": [
    "print('European ' + payoff, str( V[0,0]))"
   ]
  },
  {
   "cell_type": "code",
   "execution_count": 25,
   "id": "41d4d532",
   "metadata": {},
   "outputs": [
    {
     "name": "stdout",
     "output_type": "stream",
     "text": [
      "American put 1359.2706995963654\n"
     ]
    }
   ],
   "source": [
    "print('American ' + payoff, str( V[0,0]))"
   ]
  },
  {
   "cell_type": "code",
   "execution_count": 26,
   "id": "bce8d5dd",
   "metadata": {},
   "outputs": [],
   "source": [
    "def mcs_simulation_np(p):\n",
    "    M = p          # M = time step\n",
    "    I = p          # I = simulation\n",
    "    dt = T / M \n",
    "    S = np.zeros((M + 1, I))\n",
    "    S[0] = S0 \n",
    "    rn = np.random.standard_normal(S.shape) \n",
    "    for t in range(1, M + 1): \n",
    "        S[t] = S[t-1] * np.exp((r - sigma ** 2 / 2) * dt + sigma * np.sqrt(dt) * rn[t]) \n",
    "    return S"
   ]
  },
  {
   "cell_type": "code",
   "execution_count": 27,
   "id": "0e35ccec",
   "metadata": {},
   "outputs": [],
   "source": [
    "T = 1/52\n",
    "r = 0.0114\n",
    "sigma = 0.99\n",
    "S0 = 2565.48\n",
    "K = 3052.50"
   ]
  },
  {
   "cell_type": "code",
   "execution_count": 28,
   "id": "3cf0f673",
   "metadata": {},
   "outputs": [],
   "source": [
    "S = mcs_simulation_np(10000)"
   ]
  },
  {
   "cell_type": "code",
   "execution_count": 33,
   "id": "b28dd1b1",
   "metadata": {},
   "outputs": [
    {
     "data": {
      "text/plain": [
       "array([[ 2565.48      ,  2581.2966262 ,  2587.27819346, ...,\n",
       "          924.66515678,   903.80060653,   896.53339422],\n",
       "       [ 2565.48      ,  2586.36655224,  2519.09961055, ...,\n",
       "         1796.49854135,  1802.64103559,  1802.42873215],\n",
       "       [ 2565.48      ,  2499.96421493,  2552.44795097, ...,\n",
       "         2805.6310551 ,  2825.95451359,  2866.58402182],\n",
       "       ...,\n",
       "       [ 2565.48      ,  2592.65933317,  2598.25308939, ...,\n",
       "          921.82292037,   927.31829763,   942.38622535],\n",
       "       [ 2565.48      ,  2550.47637504,  2601.72714473, ...,\n",
       "          951.39857379,   957.79048217,   952.65313854],\n",
       "       [ 2565.48      ,  2564.10544253,  2505.80030101, ...,\n",
       "        18313.97968315, 18088.06280723, 17843.25920247]])"
      ]
     },
     "execution_count": 33,
     "metadata": {},
     "output_type": "execute_result"
    }
   ],
   "source": [
    "S = np.transpose(S)\n",
    "S"
   ]
  },
  {
   "cell_type": "code",
   "execution_count": 29,
   "id": "95f3fc34",
   "metadata": {},
   "outputs": [
    {
     "data": {
      "text/plain": [
       "Text(0.5, 1.0, 'Frequency distribution of the simulated end-of-preiod values')"
      ]
     },
     "execution_count": 29,
     "metadata": {},
     "output_type": "execute_result"
    },
    {
     "data": {
      "image/png": "[encoded data removed]",
      "text/plain": [
       "<Figure size 432x288 with 1 Axes>"
      ]
     },
     "metadata": {
      "needs_background": "light"
     },
     "output_type": "display_data"
    }
   ],
   "source": [
    "import matplotlib.pyplot as plt\n",
    "n, bins, patches = plt.hist(x=S[:,-1], bins='auto', color='#32cd32',alpha=1, rwidth=2.5)\n",
    "\n",
    "plt.grid(axis='y', alpha=0.95)\n",
    "plt.xlabel('S_T')\n",
    "plt.ylabel('Frequency')\n",
    "plt.title('Frequency distribution of the simulated end-of-preiod values')"
   ]
  },
  {
   "cell_type": "code",
   "execution_count": 30,
   "id": "4b1b137f",
   "metadata": {},
   "outputs": [
    {
     "name": "stdout",
     "output_type": "stream",
     "text": [
      "European put 617.1750787520576\n"
     ]
    }
   ],
   "source": [
    "p = np.mean(np.maximum(K - S[:,-1],0))\n",
    "print('European put', str(p))"
   ]
  },
  {
   "cell_type": "code",
   "execution_count": 31,
   "id": "3e39e2b7",
   "metadata": {},
   "outputs": [
    {
     "name": "stdout",
     "output_type": "stream",
     "text": [
      "European call 0.0\n"
     ]
    }
   ],
   "source": [
    "c = np.mean(np.maximum(S[:,-1] - K,0))\n",
    "print('European call', str(c))"
   ]
  },
  {
   "cell_type": "code",
   "execution_count": null,
   "id": "c9c351e7",
   "metadata": {},
   "outputs": [],
   "source": []
  }
 ],
 "metadata": {
  "kernelspec": {
   "display_name": "Python 3 (ipykernel)",
   "language": "python",
   "name": "python3"
  },
  "language_info": {
   "codemirror_mode": {
    "name": "ipython",
    "version": 3
   },
   "file_extension": ".py",
   "mimetype": "text/x-python",
   "name": "python",
   "nbconvert_exporter": "python",
   "pygments_lexer": "ipython3",
   "version": "3.9.7"
  }
 },
 "nbformat": 4,
 "nbformat_minor": 5
}
